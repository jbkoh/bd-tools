{
 "cells": [
  {
   "cell_type": "code",
   "execution_count": 4,
   "metadata": {
    "collapsed": false
   },
   "outputs": [],
   "source": [
    "import requests\n",
    "import json\n",
    "import building_tokenizer\n",
    "import shelve\n",
    "from pprint import PrettyPrinter\n",
    "pp = PrettyPrinter()\n",
    "from collections import defaultdict, OrderedDict"
   ]
  },
  {
   "cell_type": "code",
   "execution_count": 5,
   "metadata": {
    "collapsed": true
   },
   "outputs": [],
   "source": [
    "sensor_dict = shelve.open('metadata/bacnet_devices.shelve')"
   ]
  },
  {
   "cell_type": "code",
   "execution_count": 6,
   "metadata": {
    "collapsed": false
   },
   "outputs": [],
   "source": [
    "propTagTypeDict = {'data_type': 'BACNet_DataType',\n",
    "                'desc': \"BACNet_Description\",\n",
    "                'jci_name': 'VendorGivenName',\n",
    "                'unit': 'BACNet_Unit',\n",
    "                'instance': 'BACNet_InstanceNumber',\n",
    "                'type_str': 'BACNet_TypeString',\n",
    "                'name': 'BACNet_Name'\n",
    "               }\n",
    "naeListDict = dict()\n",
    "naeListDict['EBU3B'] = ['505', '506']\n",
    "#naeListDict['Applied_Physics_and_Mathematics'] = ['514', '513', '604']\n",
    "#naeListDict['Computer_Science_and_Engineering_Building'] = ['505', '506']\n",
    "#naeListDict['Conrad_Prebys_Music_Center'] = ['523']\n",
    "#naeListDict['San_Diego_Supercomputer_Center'] = ['668', '575', '524', '520']\n",
    "#naeListDict['Literature_Building'] = ['553']\n",
    "#naeListDict['Structural_and_Materials_Engineering_Building'] = ['572', '573', '574']\n",
    "#naeListDict['Jacobs_Hall'] = ['620', '621', '622', '623', '650', '639', '638', '642', '643', '640', \\\n",
    "#                              '641', '637', '646', '644', '645']\n",
    "#naeListDict['Warren_Lecture_Hall'] = ['555', '552']\n"
   ]
  },
  {
   "cell_type": "code",
   "execution_count": 7,
   "metadata": {
    "collapsed": false
   },
   "outputs": [
    {
     "name": "stdout",
     "output_type": "stream",
     "text": [
      "7c00e6edd097a37170427469e721883a\n"
     ]
    }
   ],
   "source": [
    "baseurl = 'https://bd-testbed.ucsd.edu:81'\n",
    "tagtypeurl = baseurl + '/api/tagtype'\n",
    "with open(\"bdtestbed_secret.json\", \"r\") as fp:\n",
    "    cred = json.load(fp)\n",
    "    cid = cred['cid']\n",
    "    ckey = cred['ckey']\n",
    "oauthurl = baseurl+\"/oauth/access_token/client_id=\"+cid+\"/client_secret=\"+ckey\n",
    "resp = requests.get(oauthurl).json()\n",
    "token = resp['access_token']\n",
    "header = {\"Authorization\": \"bearer \" + token, 'content-type':'application/json'}\n",
    "print token"
   ]
  },
  {
   "cell_type": "code",
   "execution_count": 8,
   "metadata": {
    "collapsed": false,
    "scrolled": true
   },
   "outputs": [
    {
     "name": "stdout",
     "output_type": "stream",
     "text": [
      "500\n",
      "1000\n",
      "1500\n",
      "2000\n",
      "2500\n",
      "3000\n",
      "3500\n",
      "4000\n",
      "4500\n",
      "5000\n",
      "5500\n",
      "6000\n",
      "6500\n",
      "7000\n",
      "7500\n",
      "8000\n",
      "8500\n",
      "9000\n",
      "9500\n",
      "10000\n",
      "10500\n",
      "11000\n",
      "11500\n",
      "12000\n",
      "12500\n",
      "13000\n",
      "13500\n",
      "14000\n",
      "14500\n",
      "15000\n",
      "15500\n",
      "16000\n",
      "16500\n",
      "17000\n",
      "17500\n",
      "18000\n",
      "18500\n",
      "19000\n"
     ]
    },
    {
     "ename": "ConnectionError",
     "evalue": "HTTPSConnectionPool(host='mesl-bd.ucsd.edu', port=81): Max retries exceeded with url: /api/building/Applied_Physics_and_Mathematics/tags (Caused by NewConnectionError('<requests.packages.urllib3.connection.VerifiedHTTPSConnection object at 0x7fc7fa5676d0>: Failed to establish a new connection: [Errno -3] Temporary failure in name resolution',))",
     "output_type": "error",
     "traceback": [
      "\u001b[0;31m\u001b[0m",
      "\u001b[0;31mConnectionError\u001b[0mTraceback (most recent call last)",
      "\u001b[0;32m<ipython-input-8-5a5032e02573>\u001b[0m in \u001b[0;36m<module>\u001b[0;34m()\u001b[0m\n\u001b[1;32m     52\u001b[0m             \u001b[0maddedTagValueSet\u001b[0m\u001b[0;34m.\u001b[0m\u001b[0madd\u001b[0m\u001b[0;34m(\u001b[0m\u001b[0;34m(\u001b[0m\u001b[0mtag\u001b[0m\u001b[0;34m,\u001b[0m\u001b[0mval\u001b[0m\u001b[0;34m)\u001b[0m\u001b[0;34m)\u001b[0m\u001b[0;34m\u001b[0m\u001b[0m\n\u001b[1;32m     53\u001b[0m             \u001b[0msensorTagValueDict\u001b[0m\u001b[0;34m[\u001b[0m\u001b[0msrcid\u001b[0m\u001b[0;34m]\u001b[0m\u001b[0;34m[\u001b[0m\u001b[0mtag\u001b[0m\u001b[0;34m]\u001b[0m \u001b[0;34m=\u001b[0m \u001b[0mval\u001b[0m\u001b[0;34m\u001b[0m\u001b[0m\n\u001b[0;32m---> 54\u001b[0;31m             \u001b[0mresp\u001b[0m \u001b[0;34m=\u001b[0m \u001b[0mrequests\u001b[0m\u001b[0;34m.\u001b[0m\u001b[0mpost\u001b[0m\u001b[0;34m(\u001b[0m\u001b[0mbuildingTagUrl\u001b[0m\u001b[0;34m,\u001b[0m \u001b[0mdata\u001b[0m\u001b[0;34m=\u001b[0m\u001b[0mjson\u001b[0m\u001b[0;34m.\u001b[0m\u001b[0mdumps\u001b[0m\u001b[0;34m(\u001b[0m\u001b[0mpayload\u001b[0m\u001b[0;34m)\u001b[0m\u001b[0;34m,\u001b[0m \u001b[0mheaders\u001b[0m\u001b[0;34m=\u001b[0m\u001b[0mheader\u001b[0m\u001b[0;34m)\u001b[0m\u001b[0;34m\u001b[0m\u001b[0m\n\u001b[0m\u001b[1;32m     55\u001b[0m         \u001b[0msensorTagValueDict\u001b[0m\u001b[0;34m[\u001b[0m\u001b[0msrcid\u001b[0m\u001b[0;34m]\u001b[0m\u001b[0;34m[\u001b[0m\u001b[0;34m'NAENum'\u001b[0m\u001b[0;34m]\u001b[0m \u001b[0;34m=\u001b[0m \u001b[0mnaeNum\u001b[0m\u001b[0;34m\u001b[0m\u001b[0m\n\u001b[1;32m     56\u001b[0m \u001b[0;34m\u001b[0m\u001b[0m\n",
      "\u001b[0;32m/home/jbkoh/anaconda2/lib/python2.7/site-packages/requests/api.pyc\u001b[0m in \u001b[0;36mpost\u001b[0;34m(url, data, json, **kwargs)\u001b[0m\n\u001b[1;32m    108\u001b[0m     \"\"\"\n\u001b[1;32m    109\u001b[0m \u001b[0;34m\u001b[0m\u001b[0m\n\u001b[0;32m--> 110\u001b[0;31m     \u001b[0;32mreturn\u001b[0m \u001b[0mrequest\u001b[0m\u001b[0;34m(\u001b[0m\u001b[0;34m'post'\u001b[0m\u001b[0;34m,\u001b[0m \u001b[0murl\u001b[0m\u001b[0;34m,\u001b[0m \u001b[0mdata\u001b[0m\u001b[0;34m=\u001b[0m\u001b[0mdata\u001b[0m\u001b[0;34m,\u001b[0m \u001b[0mjson\u001b[0m\u001b[0;34m=\u001b[0m\u001b[0mjson\u001b[0m\u001b[0;34m,\u001b[0m \u001b[0;34m**\u001b[0m\u001b[0mkwargs\u001b[0m\u001b[0;34m)\u001b[0m\u001b[0;34m\u001b[0m\u001b[0m\n\u001b[0m\u001b[1;32m    111\u001b[0m \u001b[0;34m\u001b[0m\u001b[0m\n\u001b[1;32m    112\u001b[0m \u001b[0;34m\u001b[0m\u001b[0m\n",
      "\u001b[0;32m/home/jbkoh/anaconda2/lib/python2.7/site-packages/requests/api.pyc\u001b[0m in \u001b[0;36mrequest\u001b[0;34m(method, url, **kwargs)\u001b[0m\n\u001b[1;32m     54\u001b[0m     \u001b[0;31m# cases, and look like a memory leak in others.\u001b[0m\u001b[0;34m\u001b[0m\u001b[0;34m\u001b[0m\u001b[0m\n\u001b[1;32m     55\u001b[0m     \u001b[0;32mwith\u001b[0m \u001b[0msessions\u001b[0m\u001b[0;34m.\u001b[0m\u001b[0mSession\u001b[0m\u001b[0;34m(\u001b[0m\u001b[0;34m)\u001b[0m \u001b[0;32mas\u001b[0m \u001b[0msession\u001b[0m\u001b[0;34m:\u001b[0m\u001b[0;34m\u001b[0m\u001b[0m\n\u001b[0;32m---> 56\u001b[0;31m         \u001b[0;32mreturn\u001b[0m \u001b[0msession\u001b[0m\u001b[0;34m.\u001b[0m\u001b[0mrequest\u001b[0m\u001b[0;34m(\u001b[0m\u001b[0mmethod\u001b[0m\u001b[0;34m=\u001b[0m\u001b[0mmethod\u001b[0m\u001b[0;34m,\u001b[0m \u001b[0murl\u001b[0m\u001b[0;34m=\u001b[0m\u001b[0murl\u001b[0m\u001b[0;34m,\u001b[0m \u001b[0;34m**\u001b[0m\u001b[0mkwargs\u001b[0m\u001b[0;34m)\u001b[0m\u001b[0;34m\u001b[0m\u001b[0m\n\u001b[0m\u001b[1;32m     57\u001b[0m \u001b[0;34m\u001b[0m\u001b[0m\n\u001b[1;32m     58\u001b[0m \u001b[0;34m\u001b[0m\u001b[0m\n",
      "\u001b[0;32m/home/jbkoh/anaconda2/lib/python2.7/site-packages/requests/sessions.pyc\u001b[0m in \u001b[0;36mrequest\u001b[0;34m(self, method, url, params, data, headers, cookies, files, auth, timeout, allow_redirects, proxies, hooks, stream, verify, cert, json)\u001b[0m\n\u001b[1;32m    486\u001b[0m         }\n\u001b[1;32m    487\u001b[0m         \u001b[0msend_kwargs\u001b[0m\u001b[0;34m.\u001b[0m\u001b[0mupdate\u001b[0m\u001b[0;34m(\u001b[0m\u001b[0msettings\u001b[0m\u001b[0;34m)\u001b[0m\u001b[0;34m\u001b[0m\u001b[0m\n\u001b[0;32m--> 488\u001b[0;31m         \u001b[0mresp\u001b[0m \u001b[0;34m=\u001b[0m \u001b[0mself\u001b[0m\u001b[0;34m.\u001b[0m\u001b[0msend\u001b[0m\u001b[0;34m(\u001b[0m\u001b[0mprep\u001b[0m\u001b[0;34m,\u001b[0m \u001b[0;34m**\u001b[0m\u001b[0msend_kwargs\u001b[0m\u001b[0;34m)\u001b[0m\u001b[0;34m\u001b[0m\u001b[0m\n\u001b[0m\u001b[1;32m    489\u001b[0m \u001b[0;34m\u001b[0m\u001b[0m\n\u001b[1;32m    490\u001b[0m         \u001b[0;32mreturn\u001b[0m \u001b[0mresp\u001b[0m\u001b[0;34m\u001b[0m\u001b[0m\n",
      "\u001b[0;32m/home/jbkoh/anaconda2/lib/python2.7/site-packages/requests/sessions.pyc\u001b[0m in \u001b[0;36msend\u001b[0;34m(self, request, **kwargs)\u001b[0m\n\u001b[1;32m    607\u001b[0m \u001b[0;34m\u001b[0m\u001b[0m\n\u001b[1;32m    608\u001b[0m         \u001b[0;31m# Send the request\u001b[0m\u001b[0;34m\u001b[0m\u001b[0;34m\u001b[0m\u001b[0m\n\u001b[0;32m--> 609\u001b[0;31m         \u001b[0mr\u001b[0m \u001b[0;34m=\u001b[0m \u001b[0madapter\u001b[0m\u001b[0;34m.\u001b[0m\u001b[0msend\u001b[0m\u001b[0;34m(\u001b[0m\u001b[0mrequest\u001b[0m\u001b[0;34m,\u001b[0m \u001b[0;34m**\u001b[0m\u001b[0mkwargs\u001b[0m\u001b[0;34m)\u001b[0m\u001b[0;34m\u001b[0m\u001b[0m\n\u001b[0m\u001b[1;32m    610\u001b[0m \u001b[0;34m\u001b[0m\u001b[0m\n\u001b[1;32m    611\u001b[0m         \u001b[0;31m# Total elapsed time of the request (approximately)\u001b[0m\u001b[0;34m\u001b[0m\u001b[0;34m\u001b[0m\u001b[0m\n",
      "\u001b[0;32m/home/jbkoh/anaconda2/lib/python2.7/site-packages/requests/adapters.pyc\u001b[0m in \u001b[0;36msend\u001b[0;34m(self, request, stream, timeout, verify, cert, proxies)\u001b[0m\n\u001b[1;32m    485\u001b[0m                 \u001b[0;32mraise\u001b[0m \u001b[0mProxyError\u001b[0m\u001b[0;34m(\u001b[0m\u001b[0me\u001b[0m\u001b[0;34m,\u001b[0m \u001b[0mrequest\u001b[0m\u001b[0;34m=\u001b[0m\u001b[0mrequest\u001b[0m\u001b[0;34m)\u001b[0m\u001b[0;34m\u001b[0m\u001b[0m\n\u001b[1;32m    486\u001b[0m \u001b[0;34m\u001b[0m\u001b[0m\n\u001b[0;32m--> 487\u001b[0;31m             \u001b[0;32mraise\u001b[0m \u001b[0mConnectionError\u001b[0m\u001b[0;34m(\u001b[0m\u001b[0me\u001b[0m\u001b[0;34m,\u001b[0m \u001b[0mrequest\u001b[0m\u001b[0;34m=\u001b[0m\u001b[0mrequest\u001b[0m\u001b[0;34m)\u001b[0m\u001b[0;34m\u001b[0m\u001b[0m\n\u001b[0m\u001b[1;32m    488\u001b[0m \u001b[0;34m\u001b[0m\u001b[0m\n\u001b[1;32m    489\u001b[0m         \u001b[0;32mexcept\u001b[0m \u001b[0mClosedPoolError\u001b[0m \u001b[0;32mas\u001b[0m \u001b[0me\u001b[0m\u001b[0;34m:\u001b[0m\u001b[0;34m\u001b[0m\u001b[0m\n",
      "\u001b[0;31mConnectionError\u001b[0m: HTTPSConnectionPool(host='mesl-bd.ucsd.edu', port=81): Max retries exceeded with url: /api/building/Applied_Physics_and_Mathematics/tags (Caused by NewConnectionError('<requests.packages.urllib3.connection.VerifiedHTTPSConnection object at 0x7fc7fa5676d0>: Failed to establish a new connection: [Errno -3] Temporary failure in name resolution',))"
     ]
    }
   ],
   "source": [
    "i = 0\n",
    "\n",
    "buildingName = 'Applied_Physics_and_Mathematics'\n",
    " #This is not used for building name but only for nae now.\n",
    "                                                 #This is the contaminated building.   \n",
    "naeList = naeListDict[buildingName]\n",
    "\n",
    "#buildingName=\"TempBuilding\"\n",
    "buildingTagUrl = baseurl + '/api/building/%s/tags'%buildingName\n",
    "addedTagValueSet = set()\n",
    "\n",
    "sensorTagValueDict = defaultdict(dict)\n",
    "\n",
    "propList = propTagTypeDict.keys()\n",
    "tagTypeList = propTagTypeDict.values()\n",
    "\n",
    "iterNum = -1\n",
    "for naeNum in naeList:\n",
    "    payload = dict()\n",
    "    payload['data'] = {'name':'NAENum', 'value':naeNum}\n",
    "    #resp = requests.post(buildingTagUrl, data=json.dumps(payload), headers=header)\n",
    "    \n",
    "    #print resp\n",
    "    \n",
    "    objList = sensor_dict[naeNum]['objs']\n",
    "    for obj in objList[:iterNum]:\n",
    "        tagTypeList = list()\n",
    "        tagValueList = list()\n",
    "        for prop, datum in obj.items():\n",
    "            if prop=='props':\n",
    "                for propProp, propDatum in datum.items():\n",
    "                    if propProp in propList:\n",
    "                        tagTypeList.append(propTagTypeDict[propProp])\n",
    "                        tagValueList.append(str(propDatum))\n",
    "            else:\n",
    "                if prop in propList:\n",
    "                    tagTypeList.append(propTagTypeDict[prop])\n",
    "                    tagValueList.append(str(datum))\n",
    "        assert(len(tagTypeList)==len(tagValueList))\n",
    "        \n",
    "        instNum = tagValueList[tagTypeList.index('BACNet_InstanceNumber')]\n",
    "        datatype = tagValueList[tagTypeList.index('BACNet_DataType')]\n",
    "        srcid = str(naeNum)+'_'+str(datatype)+'_'+str(instNum)\n",
    "        if datatype not in ['0','1','2','3','4','5','13','14','19']:\n",
    "            continue\n",
    "        for tag, val in zip(tagTypeList, tagValueList):\n",
    "            payload = dict()\n",
    "            payload['data'] = {'name':tag, 'value':str(val)}\n",
    "            i += 1\n",
    "            if i%500==0:\n",
    "                print i\n",
    "            addedTagValueSet.add((tag,val))\n",
    "            sensorTagValueDict[srcid][tag] = val\n",
    "            resp = requests.post(buildingTagUrl, data=json.dumps(payload), headers=header)\n",
    "        sensorTagValueDict[srcid]['NAENum'] = naeNum\n",
    "            "
   ]
  },
  {
   "cell_type": "code",
   "execution_count": null,
   "metadata": {
    "collapsed": false
   },
   "outputs": [],
   "source": [
    "len(sensorTagValueDict)"
   ]
  },
  {
   "cell_type": "code",
   "execution_count": null,
   "metadata": {
    "collapsed": false,
    "scrolled": true
   },
   "outputs": [],
   "source": [
    "# Create sensors\n",
    "#buildingName=\"TempBuilding\"\n",
    "sensorUrl = baseurl + '/api/sensor'\n",
    "for sensorName, tagValueDict in sensorTagValueDict.items():\n",
    "    payload = defaultdict(dict)\n",
    "    payload['data']['name'] = sensorName\n",
    "    payload['data']['identifier'] = tagValueDict['NAENum']+'_'+tagValueDict['BACNet_DataType'] + '_' + tagValueDict['BACNet_InstanceNumber']\n",
    "    payload['data']['building'] = buildingName\n",
    "    payload = dict(payload)\n",
    "    resp = requests.post(sensorUrl, data=json.dumps(payload), headers=header)\n",
    "    uuid = resp.json()['uuid']\n",
    "    tagValueDict['uuid'] = uuid"
   ]
  },
  {
   "cell_type": "code",
   "execution_count": null,
   "metadata": {
    "collapsed": false
   },
   "outputs": [],
   "source": [
    "# Adding tags to sensors\n",
    "for sensorName, tagValueDict in sensorTagValueDict.items():\n",
    "    sensorTagUrl = baseurl + '/api/sensor/'+tagValueDict['uuid']+'/tags'\n",
    "    payload = dict()\n",
    "    payload['data'] = list()\n",
    "    for key, val in tagValueDict.items():\n",
    "        payload['data'].append({'name': str(key), 'value':str(val)})\n",
    "    payload = dict(payload)\n",
    "    resp = requests.post(sensorTagUrl, data=json.dumps(payload), headers=header)"
   ]
  },
  {
   "cell_type": "code",
   "execution_count": 31,
   "metadata": {
    "collapsed": false
   },
   "outputs": [],
   "source": [
    "# Create Sensor Group\n",
    "sensorGroupName = buildingName\n",
    "sensorGroupUrl = baseurl + '/api/sensor_group'\n",
    "data = {\n",
    "    'name': sensorGroupName,\n",
    "    'building': buildingName,\n",
    "    'description': ''\n",
    "}\n",
    "resp = requests.post(sensorGroupUrl, data=json.dumps(data), headers=header)"
   ]
  },
  {
   "cell_type": "code",
   "execution_count": 32,
   "metadata": {
    "collapsed": true
   },
   "outputs": [],
   "source": [
    "# Create User Group\n",
    "userGroupUrl = baseurl + '/api/user_group'\n",
    "userGroupName = buildingName + '_Admin'\n",
    "data = {\n",
    "    'name': userGroupName,\n",
    "    'description':''\n",
    "}\n",
    "resp = requests.post(userGroupUrl, data=json.dumps(data), headers=header)"
   ]
  },
  {
   "cell_type": "code",
   "execution_count": 34,
   "metadata": {
    "collapsed": false
   },
   "outputs": [
    {
     "name": "stdout",
     "output_type": "stream",
     "text": [
      "{\n",
      "  \"success\": \"True\"\n",
      "}\n",
      "\n"
     ]
    }
   ],
   "source": [
    "# Adding tags to sensor groups\n",
    "sensorGroupName = buildingName\n",
    "sgTagsUrl = baseurl + '/api/sensor_group/%s/tags'%sensorGroupName\n",
    "payload = dict()\n",
    "payload['data'] = list()\n",
    "for naeNum in naeList:\n",
    "    payload['data'].append({'name': 'NAENum', 'value':str(naeNum)})\n",
    "resp = requests.post(sgTagsUrl, data=json.dumps(payload), headers=header)\n",
    "print resp.text"
   ]
  },
  {
   "cell_type": "code",
   "execution_count": 35,
   "metadata": {
    "collapsed": false
   },
   "outputs": [],
   "source": [
    "# Create Permission Pair\n",
    "permissionUrl = baseurl + '/api/permission'\n",
    "data = {\n",
    "    'sensor_group':sensorGroupName,\n",
    "    'user_group':userGroupName,\n",
    "    'permission': 'rwp'\n",
    "}\n",
    "resp = requests.post(permissionUrl, data=json.dumps(data), headers=header)"
   ]
  },
  {
   "cell_type": "code",
   "execution_count": 36,
   "metadata": {
    "collapsed": false
   },
   "outputs": [
    {
     "data": {
      "text/plain": [
       "u'{\\n  \"error\": \"Missing data\", \\n  \"success\": \"False\"\\n}\\n'"
      ]
     },
     "execution_count": 36,
     "metadata": {},
     "output_type": "execute_result"
    }
   ],
   "source": [
    "resp.text"
   ]
  },
  {
   "cell_type": "code",
   "execution_count": null,
   "metadata": {
    "collapsed": true
   },
   "outputs": [],
   "source": []
  }
 ],
 "metadata": {
  "anaconda-cloud": {},
  "kernelspec": {
   "display_name": "Python [conda root]",
   "language": "python",
   "name": "conda-root-py"
  },
  "language_info": {
   "codemirror_mode": {
    "name": "ipython",
    "version": 2
   },
   "file_extension": ".py",
   "mimetype": "text/x-python",
   "name": "python",
   "nbconvert_exporter": "python",
   "pygments_lexer": "ipython2",
   "version": "2.7.12"
  }
 },
 "nbformat": 4,
 "nbformat_minor": 0
}
